{
 "cells": [
  {
   "cell_type": "code",
   "execution_count": 1,
   "id": "d7db0bc7-abe2-494f-b0a1-9c43532cc798",
   "metadata": {},
   "outputs": [],
   "source": [
    "import seaborn as sns\n",
    "import pandas as pd\n",
    "from sklearn.model_selection import train_test_split\n",
    "from sklearn.linear_model import LogisticRegression\n",
    "from sklearn.metrics import accuracy_score, confusion_matrix, classification_report"
   ]
  },
  {
   "cell_type": "code",
   "execution_count": 2,
   "id": "5f27d2e4-29ca-4874-af94-7a8ea7db4eb4",
   "metadata": {},
   "outputs": [
    {
     "name": "stdout",
     "output_type": "stream",
     "text": [
      "   survived  pclass     sex   age  sibsp  parch     fare embarked  class  \\\n",
      "0         0       3    male  22.0      1      0   7.2500        S  Third   \n",
      "1         1       1  female  38.0      1      0  71.2833        C  First   \n",
      "2         1       3  female  26.0      0      0   7.9250        S  Third   \n",
      "3         1       1  female  35.0      1      0  53.1000        S  First   \n",
      "4         0       3    male  35.0      0      0   8.0500        S  Third   \n",
      "\n",
      "     who  adult_male deck  embark_town alive  alone  \n",
      "0    man        True  NaN  Southampton    no  False  \n",
      "1  woman       False    C    Cherbourg   yes  False  \n",
      "2  woman       False  NaN  Southampton   yes   True  \n",
      "3  woman       False    C  Southampton   yes  False  \n",
      "4    man        True  NaN  Southampton    no   True  \n"
     ]
    }
   ],
   "source": [
    "# 1. Load Titanic dataset from seaborn\n",
    "df = sns.load_dataset(\"titanic\")\n",
    "\n",
    "# Preview\n",
    "print(df.head(5))"
   ]
  },
  {
   "cell_type": "code",
   "execution_count": 5,
   "id": "319e3700-cefe-4aae-95f8-bfa1bf830d80",
   "metadata": {},
   "outputs": [],
   "source": [
    "# 2. Select features + target\n",
    "# We'll use: class (pclass), sex, age, sibsp, parch, fare, embarked\n",
    "# passenger class (1st, 2nd, 3rd).\n",
    "# sibsp: number of siblings/spouses aboard.\n",
    "# parch: number of parents/children aboard.\n",
    "# fare: ticket fare.\n",
    "# embarked: port of embarkation (C = Cherbourg, Q = Queenstown, S = Southampton).\n",
    "\n",
    "features = [\"pclass\", \"sex\", \"age\", \"sibsp\", \"parch\", \"fare\", \"embarked\"]\n",
    "target = \"survived\"\n",
    "\n",
    "X = df[features]\n",
    "y = df[target]"
   ]
  },
  {
   "cell_type": "code",
   "execution_count": null,
   "id": "50b17d22-c258-4a73-9cbc-579ca40f7826",
   "metadata": {},
   "outputs": [],
   "source": [
    "# 3. Handle missing values\n",
    "# Titanic dataset has some missing values.\n",
    "# For age → we replace missing values with the median age.\n",
    "# For embarked → we replace missing values with the most common port (mode).\n",
    "X = X.fillna({\n",
    "    \"age\": X[\"age\"].median(),\n",
    "    \"embarked\": X[\"embarked\"].mode()[0]\n",
    "})"
   ]
  },
  {
   "cell_type": "code",
   "execution_count": null,
   "id": "d4a0c925-01e7-4d06-94dc-f2f4183a717f",
   "metadata": {},
   "outputs": [],
   "source": [
    "# 4. Convert categorical variables → one-hot encoding\n",
    "# ML models need numbers, not words.\n",
    "# sex, embarked, pclass are categorical (male/female, C/Q/S).\n",
    "# pd.get_dummies() converts categories into 0/1 dummy variables.\n",
    "# drop_first=True avoids duplicate info (to prevent multicollinearity).\n",
    "# Example:\n",
    "# sex → becomes sex_male (1 = male, 0 = female).\n",
    "# embarked → becomes embarked_Q, embarked_S (C is dropped automatically).\n",
    "X = pd.get_dummies(X, drop_first=True)"
   ]
  },
  {
   "cell_type": "code",
   "execution_count": null,
   "id": "d88f3f9d-5674-4262-8db8-e1a81924a433",
   "metadata": {},
   "outputs": [],
   "source": [
    "# 5. Split into train/test sets\n",
    "X_train, X_test, y_train, y_test = train_test_split(\n",
    "    X, y, test_size=0.2, random_state=42\n",
    ")\n",
    "\n",
    "# 6. Train logistic regression model\n",
    "model = LogisticRegression(max_iter=500)\n",
    "model.fit(X_train, y_train)\n",
    "\n",
    "# 7. Predict on test set\n",
    "y_pred = model.predict(X_test)\n",
    "\n",
    "# 8. Evaluate performance\n",
    "print(\"✅ Accuracy:\", accuracy_score(y_test, y_pred))\n",
    "print(\"\\nConfusion Matrix:\\n\", confusion_matrix(y_test, y_pred))\n",
    "print(\"\\nClassification Report:\\n\", classification_report(y_test, y_pred))\n"
   ]
  }
 ],
 "metadata": {
  "kernelspec": {
   "display_name": "Python 3 (ipykernel)",
   "language": "python",
   "name": "python3"
  },
  "language_info": {
   "codemirror_mode": {
    "name": "ipython",
    "version": 3
   },
   "file_extension": ".py",
   "mimetype": "text/x-python",
   "name": "python",
   "nbconvert_exporter": "python",
   "pygments_lexer": "ipython3",
   "version": "3.13.7"
  }
 },
 "nbformat": 4,
 "nbformat_minor": 5
}
