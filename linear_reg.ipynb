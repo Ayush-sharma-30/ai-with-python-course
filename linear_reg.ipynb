{
 "cells": [
  {
   "cell_type": "code",
   "execution_count": 4,
   "id": "244f31ae-abbd-41c3-adcc-ffbb9d11532f",
   "metadata": {},
   "outputs": [
    {
     "name": "stdout",
     "output_type": "stream",
     "text": [
      "Mean squared error is:  1826.4841712795046\n",
      "Weights:  [  -1.16678648 -237.18123633  518.31283524  309.04204042 -763.10835067\n",
      "  458.88378916   80.61107395  174.31796962  721.48087773   79.1952801 ]\n",
      "Intercept:  153.05824267739402\n"
     ]
    }
   ],
   "source": [
    "import matplotlib.pyplot as plt\n",
    "import numpy as np\n",
    "from sklearn import datasets, linear_model\n",
    "from sklearn.metrics import mean_squared_error\n",
    "\n",
    "diabetes = datasets.load_diabetes()\n",
    "\n",
    "# print(diabetes.keys())\n",
    "# => dict_keys(['data', 'target', 'frame', 'DESCR', 'feature_names', 'data_filename', 'target_filename', 'data_module'])\n",
    "# print(diabetes.DESCR)\n",
    "\n",
    "# to take only selected features from all the list of features\n",
    "# diabetes_X = diabetes.data[:, np.newaxis, 2]\n",
    "diabetes_X = diabetes.data\n",
    "\n",
    "# everything except last 30\n",
    "diabetes_X_train = diabetes_X[:-30]\n",
    "\n",
    "#only last 30\n",
    "diabetes_X_test = diabetes_X[-30:]\n",
    "\n",
    "diabetes_y_train = diabetes.target[:-30]\n",
    "diabetes_y_test = diabetes.target[-30:]\n",
    "\n",
    "model = linear_model.LinearRegression()\n",
    "\n",
    "model.fit(diabetes_X_train, diabetes_y_train)\n",
    "\n",
    "diabetes_y_predicted = model.predict(diabetes_X_test)\n",
    "\n",
    "print(\"Mean squared error is: \", mean_squared_error(diabetes_y_test, diabetes_y_predicted))\n",
    "\n",
    "print(\"Weights: \", model.coef_)\n",
    "print(\"Intercept: \", model.intercept_)\n",
    "\n",
    "# plt.scatter(diabetes_X_test, diabetes_y_test)\n",
    "# plt.plot(diabetes_X_test, diabetes_y_predicted)\n",
    "#\n",
    "# plt.show()\n",
    "\n",
    "# Mean squared error is:  3035.0601152912695\n",
    "# Weights:  [941.43097333]\n",
    "# Intercept:  153.39713623331698"
   ]
  },
  {
   "cell_type": "code",
   "execution_count": null,
   "id": "cb3062be-f2ee-4c5d-8b4f-acc3e2d56534",
   "metadata": {},
   "outputs": [],
   "source": [
    "import pandas as pd\n",
    "import matplotlib.pyplot as plt\n",
    "from sklearn.model_selection import train_test_split\n",
    "from sklearn.linear_model import LinearRegression\n",
    "from sklearn.metrics import mean_squared_error\n",
    "\n",
    "data = {\n",
    "    \"Hours\": [1, 2, 3, 4, 5, 6, 7, 8, 9, 10],\n",
    "    \"Scores\": [20, 25, 35, 40, 50, 60, 65, 70, 80, 90]\n",
    "}\n",
    "df = pd.DataFrame(data)\n",
    "print(df)\n",
    "\n",
    "plt.scatter(df[\"Hours\"], df[\"Scores\"])\n",
    "plt.title(\"Hours Studied vs Exam Scores\")\n",
    "plt.xlabel(\"Hours Studied\")\n",
    "plt.ylabel(\"Scores (%)\")\n",
    "plt.show()\n",
    "\n",
    "X = df[[\"Hours\"]]   # Features\n",
    "y = df[\"Scores\"]    # Target\n",
    "\n",
    "X_train, X_test, y_train, y_test = train_test_split(X, y, test_size=0.2, random_state=42)\n",
    "\n",
    "\n",
    "model = LinearRegression()\n",
    "model.fit(X_train, y_train)\n",
    "\n",
    "y_pred = model.predict(X_test)\n",
    "print(\"Predicted Scores:\", y_pred)\n",
    "print(\"Actual Scores:\", list(y_test))\n",
    "\n",
    "print(\"Mean Squared Error:\", mean_squared_error(y_test, y_pred))\n",
    "\n",
    "\n",
    "plt.scatter(X, y, color=\"blue\")\n",
    "plt.plot(X, model.predict(X), color=\"red\")\n",
    "plt.title(\"Regression Line: Hours vs Scores\")\n",
    "plt.xlabel(\"Hours Studied\")\n",
    "plt.ylabel(\"Scores (%)\")\n",
    "plt.show()\n"
   ]
  }
 ],
 "metadata": {
  "kernelspec": {
   "display_name": "Python 3 (ipykernel)",
   "language": "python",
   "name": "python3"
  },
  "language_info": {
   "codemirror_mode": {
    "name": "ipython",
    "version": 3
   },
   "file_extension": ".py",
   "mimetype": "text/x-python",
   "name": "python",
   "nbconvert_exporter": "python",
   "pygments_lexer": "ipython3",
   "version": "3.13.7"
  }
 },
 "nbformat": 4,
 "nbformat_minor": 5
}
