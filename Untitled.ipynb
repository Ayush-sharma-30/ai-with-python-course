{
 "cells": [
  {
   "cell_type": "raw",
   "id": "084b714c-7d82-47aa-9eab-310966a583bd",
   "metadata": {},
   "source": [
    "# install numpy using pip: pip install numpy\n",
    "# install jupyter notebook using pip: pip install jupyter\n",
    "# Launch jupyter notebook: jupyter notebook"
   ]
  },
  {
   "cell_type": "code",
   "execution_count": 7,
   "id": "01f709f0-cc0e-44d8-829a-ee0ff7403a3b",
   "metadata": {},
   "outputs": [],
   "source": [
    "import numpy as np"
   ]
  },
  {
   "cell_type": "code",
   "execution_count": 19,
   "id": "934f8655-bfcd-4de1-a39f-6ae8ae55a086",
   "metadata": {},
   "outputs": [],
   "source": [
    "myArr = np.array([[3,6,57,4,12,4]],np.int64)"
   ]
  },
  {
   "cell_type": "code",
   "execution_count": 20,
   "id": "e7d59603-f81a-4139-a3a5-d3d1d16886d5",
   "metadata": {},
   "outputs": [
    {
     "data": {
      "text/plain": [
       "array([[ 3,  6, 57,  4, 12,  4]])"
      ]
     },
     "execution_count": 20,
     "metadata": {},
     "output_type": "execute_result"
    }
   ],
   "source": [
    "myArr"
   ]
  },
  {
   "cell_type": "code",
   "execution_count": 21,
   "id": "ebaef728-fa93-48a7-ad6f-22cb79d81fa1",
   "metadata": {},
   "outputs": [
    {
     "data": {
      "text/plain": [
       "(1, 6)"
      ]
     },
     "execution_count": 21,
     "metadata": {},
     "output_type": "execute_result"
    }
   ],
   "source": [
    "myArr.shape"
   ]
  },
  {
   "cell_type": "code",
   "execution_count": 23,
   "id": "1665e32f-ae1e-40b0-9ea1-649ff3b56fbb",
   "metadata": {},
   "outputs": [],
   "source": [
    "myArr[0][1]=9"
   ]
  },
  {
   "cell_type": "code",
   "execution_count": 24,
   "id": "a54bd8e7-ff25-4567-98ef-2c86683bfbf7",
   "metadata": {},
   "outputs": [
    {
     "data": {
      "text/plain": [
       "np.int64(9)"
      ]
     },
     "execution_count": 24,
     "metadata": {},
     "output_type": "execute_result"
    }
   ],
   "source": [
    "myArr[0][1]"
   ]
  },
  {
   "cell_type": "code",
   "execution_count": 31,
   "id": "344285ad-1a3d-4d49-9198-873266291b86",
   "metadata": {},
   "outputs": [],
   "source": [
    "zeroes = np.zeros((100,50))"
   ]
  },
  {
   "cell_type": "code",
   "execution_count": 32,
   "id": "6ab893a9-0ed0-4387-881d-6b9aee1cdde4",
   "metadata": {},
   "outputs": [
    {
     "data": {
      "text/plain": [
       "array([[0., 0., 0., ..., 0., 0., 0.],\n",
       "       [0., 0., 0., ..., 0., 0., 0.],\n",
       "       [0., 0., 0., ..., 0., 0., 0.],\n",
       "       ...,\n",
       "       [0., 0., 0., ..., 0., 0., 0.],\n",
       "       [0., 0., 0., ..., 0., 0., 0.],\n",
       "       [0., 0., 0., ..., 0., 0., 0.]], shape=(100, 50))"
      ]
     },
     "execution_count": 32,
     "metadata": {},
     "output_type": "execute_result"
    }
   ],
   "source": [
    "zeroes"
   ]
  },
  {
   "cell_type": "code",
   "execution_count": 33,
   "id": "09544b7a-52f7-40f2-8545-2b9d1e317440",
   "metadata": {},
   "outputs": [],
   "source": [
    "rangeArr = np.arange(10)"
   ]
  },
  {
   "cell_type": "code",
   "execution_count": 34,
   "id": "b4183e05-c760-4c49-a8db-aae45b40e6a6",
   "metadata": {},
   "outputs": [
    {
     "data": {
      "text/plain": [
       "array([0, 1, 2, 3, 4, 5, 6, 7, 8, 9])"
      ]
     },
     "execution_count": 34,
     "metadata": {},
     "output_type": "execute_result"
    }
   ],
   "source": [
    "rangeArr"
   ]
  },
  {
   "cell_type": "code",
   "execution_count": 60,
   "id": "a510c6c5-3a70-4b23-999d-1364a16e9be4",
   "metadata": {},
   "outputs": [],
   "source": [
    "equallySpaced = np.linspace(1,100,10)"
   ]
  },
  {
   "cell_type": "code",
   "execution_count": 61,
   "id": "a5cd0a1c-f92c-430b-980a-b1be29a6cb7e",
   "metadata": {},
   "outputs": [
    {
     "data": {
      "text/plain": [
       "array([  1.,  12.,  23.,  34.,  45.,  56.,  67.,  78.,  89., 100.])"
      ]
     },
     "execution_count": 61,
     "metadata": {},
     "output_type": "execute_result"
    }
   ],
   "source": [
    "equallySpaced"
   ]
  },
  {
   "cell_type": "code",
   "execution_count": 38,
   "id": "b7657f5b-3cec-4744-872f-f993ec06c19c",
   "metadata": {},
   "outputs": [],
   "source": [
    "empty = np.empty((4,6))"
   ]
  },
  {
   "cell_type": "code",
   "execution_count": 39,
   "id": "cbdceb8a-f732-40ff-9522-dd6bcb90e472",
   "metadata": {},
   "outputs": [
    {
     "data": {
      "text/plain": [
       "array([[0., 0., 0., 0., 0., 0.],\n",
       "       [0., 0., 0., 0., 0., 0.],\n",
       "       [0., 0., 0., 0., 0., 0.],\n",
       "       [0., 0., 0., 0., 0., 0.]])"
      ]
     },
     "execution_count": 39,
     "metadata": {},
     "output_type": "execute_result"
    }
   ],
   "source": [
    "empty"
   ]
  },
  {
   "cell_type": "code",
   "execution_count": 40,
   "id": "c9078e5e-d5b8-4263-8d65-880bb6aee682",
   "metadata": {},
   "outputs": [],
   "source": [
    "empty[1][2]=5"
   ]
  },
  {
   "cell_type": "code",
   "execution_count": 41,
   "id": "3c082116-2dc9-42e2-8998-6a6a5b9cd6c2",
   "metadata": {},
   "outputs": [
    {
     "data": {
      "text/plain": [
       "array([[0., 0., 0., 0., 0., 0.],\n",
       "       [0., 0., 5., 0., 0., 0.],\n",
       "       [0., 0., 0., 0., 0., 0.],\n",
       "       [0., 0., 0., 0., 0., 0.]])"
      ]
     },
     "execution_count": 41,
     "metadata": {},
     "output_type": "execute_result"
    }
   ],
   "source": [
    "empty"
   ]
  },
  {
   "cell_type": "code",
   "execution_count": 42,
   "id": "2fbca9a6-420e-4e51-8056-b923e281aec6",
   "metadata": {},
   "outputs": [],
   "source": [
    "identity = np.identity(10)"
   ]
  },
  {
   "cell_type": "code",
   "execution_count": 43,
   "id": "1e482209-324e-4e65-b584-ed92f38c9734",
   "metadata": {},
   "outputs": [
    {
     "data": {
      "text/plain": [
       "array([[1., 0., 0., 0., 0., 0., 0., 0., 0., 0.],\n",
       "       [0., 1., 0., 0., 0., 0., 0., 0., 0., 0.],\n",
       "       [0., 0., 1., 0., 0., 0., 0., 0., 0., 0.],\n",
       "       [0., 0., 0., 1., 0., 0., 0., 0., 0., 0.],\n",
       "       [0., 0., 0., 0., 1., 0., 0., 0., 0., 0.],\n",
       "       [0., 0., 0., 0., 0., 1., 0., 0., 0., 0.],\n",
       "       [0., 0., 0., 0., 0., 0., 1., 0., 0., 0.],\n",
       "       [0., 0., 0., 0., 0., 0., 0., 1., 0., 0.],\n",
       "       [0., 0., 0., 0., 0., 0., 0., 0., 1., 0.],\n",
       "       [0., 0., 0., 0., 0., 0., 0., 0., 0., 1.]])"
      ]
     },
     "execution_count": 43,
     "metadata": {},
     "output_type": "execute_result"
    }
   ],
   "source": [
    "identity"
   ]
  },
  {
   "cell_type": "code",
   "execution_count": 48,
   "id": "555d347a-34a1-44e7-8ebf-ae7af94597f6",
   "metadata": {},
   "outputs": [],
   "source": [
    "arr = np.arange(100)"
   ]
  },
  {
   "cell_type": "code",
   "execution_count": 49,
   "id": "10627f8c-97a7-4394-83eb-53986092f6db",
   "metadata": {},
   "outputs": [
    {
     "data": {
      "text/plain": [
       "array([ 0,  1,  2,  3,  4,  5,  6,  7,  8,  9, 10, 11, 12, 13, 14, 15, 16,\n",
       "       17, 18, 19, 20, 21, 22, 23, 24, 25, 26, 27, 28, 29, 30, 31, 32, 33,\n",
       "       34, 35, 36, 37, 38, 39, 40, 41, 42, 43, 44, 45, 46, 47, 48, 49, 50,\n",
       "       51, 52, 53, 54, 55, 56, 57, 58, 59, 60, 61, 62, 63, 64, 65, 66, 67,\n",
       "       68, 69, 70, 71, 72, 73, 74, 75, 76, 77, 78, 79, 80, 81, 82, 83, 84,\n",
       "       85, 86, 87, 88, 89, 90, 91, 92, 93, 94, 95, 96, 97, 98, 99])"
      ]
     },
     "execution_count": 49,
     "metadata": {},
     "output_type": "execute_result"
    }
   ],
   "source": [
    "arr"
   ]
  },
  {
   "cell_type": "code",
   "execution_count": 54,
   "id": "03137fdd-1d2b-458f-a4cd-c7261197da86",
   "metadata": {},
   "outputs": [
    {
     "data": {
      "text/plain": [
       "array([[ 0,  1,  2,  3,  4,  5,  6,  7,  8,  9, 10, 11, 12, 13, 14, 15,\n",
       "        16, 17, 18, 19, 20, 21, 22, 23, 24],\n",
       "       [25, 26, 27, 28, 29, 30, 31, 32, 33, 34, 35, 36, 37, 38, 39, 40,\n",
       "        41, 42, 43, 44, 45, 46, 47, 48, 49],\n",
       "       [50, 51, 52, 53, 54, 55, 56, 57, 58, 59, 60, 61, 62, 63, 64, 65,\n",
       "        66, 67, 68, 69, 70, 71, 72, 73, 74],\n",
       "       [75, 76, 77, 78, 79, 80, 81, 82, 83, 84, 85, 86, 87, 88, 89, 90,\n",
       "        91, 92, 93, 94, 95, 96, 97, 98, 99]])"
      ]
     },
     "execution_count": 54,
     "metadata": {},
     "output_type": "execute_result"
    }
   ],
   "source": [
    "arr.reshape(4,25)"
   ]
  },
  {
   "cell_type": "code",
   "execution_count": 55,
   "id": "6a9ba133-9f39-4f1e-ade5-a22b0a7e9026",
   "metadata": {},
   "outputs": [
    {
     "data": {
      "text/plain": [
       "array([ 0,  1,  2,  3,  4,  5,  6,  7,  8,  9, 10, 11, 12, 13, 14, 15, 16,\n",
       "       17, 18, 19, 20, 21, 22, 23, 24, 25, 26, 27, 28, 29, 30, 31, 32, 33,\n",
       "       34, 35, 36, 37, 38, 39, 40, 41, 42, 43, 44, 45, 46, 47, 48, 49, 50,\n",
       "       51, 52, 53, 54, 55, 56, 57, 58, 59, 60, 61, 62, 63, 64, 65, 66, 67,\n",
       "       68, 69, 70, 71, 72, 73, 74, 75, 76, 77, 78, 79, 80, 81, 82, 83, 84,\n",
       "       85, 86, 87, 88, 89, 90, 91, 92, 93, 94, 95, 96, 97, 98, 99])"
      ]
     },
     "execution_count": 55,
     "metadata": {},
     "output_type": "execute_result"
    }
   ],
   "source": [
    "arr.ravel()"
   ]
  },
  {
   "cell_type": "code",
   "execution_count": 89,
   "id": "83c0d389-8cde-4da4-8dee-6622a5c956b5",
   "metadata": {},
   "outputs": [],
   "source": [
    "matrixArr = np.array([[56,1,2,3],[4,45,6,5],[71,8,93,3]])"
   ]
  },
  {
   "cell_type": "code",
   "execution_count": 68,
   "id": "00fb80a3-df22-4498-b2a0-77138f4767aa",
   "metadata": {},
   "outputs": [
    {
     "data": {
      "text/plain": [
       "array([[ 1,  2,  3, 56],\n",
       "       [ 4,  5,  6, 45],\n",
       "       [ 7,  8,  9, 33]])"
      ]
     },
     "execution_count": 68,
     "metadata": {},
     "output_type": "execute_result"
    }
   ],
   "source": [
    "matrixArr"
   ]
  },
  {
   "cell_type": "code",
   "execution_count": 69,
   "id": "d1bc59a6-8340-426e-acf0-5a980fe8ff3d",
   "metadata": {},
   "outputs": [
    {
     "data": {
      "text/plain": [
       "array([ 12,  15,  18, 134])"
      ]
     },
     "execution_count": 69,
     "metadata": {},
     "output_type": "execute_result"
    }
   ],
   "source": [
    "matrixArr.sum(axis=0)"
   ]
  },
  {
   "cell_type": "code",
   "execution_count": 70,
   "id": "0a890493-b3a7-4630-941f-3e1a8e60330d",
   "metadata": {},
   "outputs": [
    {
     "data": {
      "text/plain": [
       "array([62, 60, 57])"
      ]
     },
     "execution_count": 70,
     "metadata": {},
     "output_type": "execute_result"
    }
   ],
   "source": [
    "matrixArr.sum(axis=1)"
   ]
  },
  {
   "cell_type": "code",
   "execution_count": 79,
   "id": "8934120d-947c-4652-b3b5-bfeed8e5e49f",
   "metadata": {},
   "outputs": [
    {
     "data": {
      "text/plain": [
       "array([[ 1,  4,  7],\n",
       "       [ 2,  5,  8],\n",
       "       [ 3,  6,  9],\n",
       "       [56, 45, 33]])"
      ]
     },
     "execution_count": 79,
     "metadata": {},
     "output_type": "execute_result"
    }
   ],
   "source": [
    "matrixArr.T"
   ]
  },
  {
   "cell_type": "code",
   "execution_count": 80,
   "id": "385dbc00-12fb-4742-af3a-b267ec86d249",
   "metadata": {},
   "outputs": [
    {
     "data": {
      "text/plain": [
       "array([[ 1,  2,  3, 56],\n",
       "       [ 4,  5,  6, 45],\n",
       "       [ 7,  8,  9, 33]])"
      ]
     },
     "execution_count": 80,
     "metadata": {},
     "output_type": "execute_result"
    }
   ],
   "source": [
    "matrixArr"
   ]
  },
  {
   "cell_type": "code",
   "execution_count": 82,
   "id": "ff761d25-3275-49a1-8b54-58aa50cfd97d",
   "metadata": {},
   "outputs": [
    {
     "name": "stdout",
     "output_type": "stream",
     "text": [
      "1\n",
      "2\n",
      "3\n",
      "56\n",
      "4\n",
      "5\n",
      "6\n",
      "45\n",
      "7\n",
      "8\n",
      "9\n",
      "33\n"
     ]
    }
   ],
   "source": [
    "for item in matrixArr.flat:\n",
    "    print(item)"
   ]
  },
  {
   "cell_type": "code",
   "execution_count": 83,
   "id": "360d1293-f2a1-43fe-a044-cceb6bf22176",
   "metadata": {},
   "outputs": [
    {
     "data": {
      "text/plain": [
       "2"
      ]
     },
     "execution_count": 83,
     "metadata": {},
     "output_type": "execute_result"
    }
   ],
   "source": [
    "matrixArr.ndim"
   ]
  },
  {
   "cell_type": "code",
   "execution_count": 84,
   "id": "f84a6bf3-d387-4213-b7e1-92988b6061ec",
   "metadata": {},
   "outputs": [
    {
     "data": {
      "text/plain": [
       "96"
      ]
     },
     "execution_count": 84,
     "metadata": {},
     "output_type": "execute_result"
    }
   ],
   "source": [
    "matrixArr.nbytes"
   ]
  },
  {
   "cell_type": "code",
   "execution_count": 85,
   "id": "a1c90cd4-5cee-4363-845c-79c4d96341b0",
   "metadata": {},
   "outputs": [
    {
     "data": {
      "text/plain": [
       "np.int64(3)"
      ]
     },
     "execution_count": 85,
     "metadata": {},
     "output_type": "execute_result"
    }
   ],
   "source": [
    "matrixArr.argmax()"
   ]
  },
  {
   "cell_type": "code",
   "execution_count": 86,
   "id": "ed8d4a69-a0e7-48aa-bc9a-fac52e67b640",
   "metadata": {},
   "outputs": [
    {
     "data": {
      "text/plain": [
       "np.int64(0)"
      ]
     },
     "execution_count": 86,
     "metadata": {},
     "output_type": "execute_result"
    }
   ],
   "source": [
    "matrixArr.argmin()"
   ]
  },
  {
   "cell_type": "code",
   "execution_count": 91,
   "id": "08f46031-d3d7-4d57-b624-4c6115a5ce9b",
   "metadata": {},
   "outputs": [
    {
     "data": {
      "text/plain": [
       "array([[1, 2, 3, 0],\n",
       "       [0, 3, 2, 1],\n",
       "       [3, 1, 0, 2]])"
      ]
     },
     "execution_count": 91,
     "metadata": {},
     "output_type": "execute_result"
    }
   ],
   "source": [
    "matrixArr.argsort()"
   ]
  },
  {
   "cell_type": "code",
   "execution_count": 90,
   "id": "98a9de11-6743-4b32-b005-4a33623978d7",
   "metadata": {},
   "outputs": [
    {
     "data": {
      "text/plain": [
       "array([[56,  1,  2,  3],\n",
       "       [ 4, 45,  6,  5],\n",
       "       [71,  8, 93,  3]])"
      ]
     },
     "execution_count": 90,
     "metadata": {},
     "output_type": "execute_result"
    }
   ],
   "source": [
    "matrixArr"
   ]
  },
  {
   "cell_type": "code",
   "execution_count": 100,
   "id": "4bdfee48-e215-479d-aa94-50a99f70c71b",
   "metadata": {},
   "outputs": [],
   "source": [
    "matrixArr2 = np.array([[0,1,2,3],[4,45,6,5],[71,8,93,3]])"
   ]
  },
  {
   "cell_type": "code",
   "execution_count": 93,
   "id": "ed6f3a13-797d-4e55-b62d-3cd300b99c71",
   "metadata": {},
   "outputs": [
    {
     "data": {
      "text/plain": [
       "array([[3136,    1,    4,    9],\n",
       "       [  16, 2025,   36,   25],\n",
       "       [5041,   64, 8649,    9]])"
      ]
     },
     "execution_count": 93,
     "metadata": {},
     "output_type": "execute_result"
    }
   ],
   "source": [
    "matrixArr*matrixArr2"
   ]
  },
  {
   "cell_type": "code",
   "execution_count": 94,
   "id": "f6c7ac6c-8ae4-4379-b31e-11cfae89a27b",
   "metadata": {},
   "outputs": [
    {
     "data": {
      "text/plain": [
       "array([[112,   2,   4,   6],\n",
       "       [  8,  90,  12,  10],\n",
       "       [142,  16, 186,   6]])"
      ]
     },
     "execution_count": 94,
     "metadata": {},
     "output_type": "execute_result"
    }
   ],
   "source": [
    "matrixArr+matrixArr2"
   ]
  },
  {
   "cell_type": "code",
   "execution_count": 95,
   "id": "edac021f-c3ff-4e4c-910d-07d231804cc7",
   "metadata": {},
   "outputs": [
    {
     "data": {
      "text/plain": [
       "array([[7.48331477, 1.        , 1.41421356, 1.73205081],\n",
       "       [2.        , 6.70820393, 2.44948974, 2.23606798],\n",
       "       [8.42614977, 2.82842712, 9.64365076, 1.73205081]])"
      ]
     },
     "execution_count": 95,
     "metadata": {},
     "output_type": "execute_result"
    }
   ],
   "source": [
    "np.sqrt(matrixArr2)"
   ]
  },
  {
   "cell_type": "code",
   "execution_count": 96,
   "id": "72dba677-810d-43a6-87fe-f98808f212d3",
   "metadata": {},
   "outputs": [
    {
     "data": {
      "text/plain": [
       "np.int64(297)"
      ]
     },
     "execution_count": 96,
     "metadata": {},
     "output_type": "execute_result"
    }
   ],
   "source": [
    "matrixArr2.sum()"
   ]
  },
  {
   "cell_type": "code",
   "execution_count": 97,
   "id": "829017bb-2156-408d-a872-e6a708c62a3a",
   "metadata": {},
   "outputs": [
    {
     "data": {
      "text/plain": [
       "np.int64(1)"
      ]
     },
     "execution_count": 97,
     "metadata": {},
     "output_type": "execute_result"
    }
   ],
   "source": [
    "matrixArr2.min()"
   ]
  },
  {
   "cell_type": "code",
   "execution_count": 98,
   "id": "3c93e4a0-c0b4-45b9-aca7-7a939273c9ac",
   "metadata": {},
   "outputs": [
    {
     "data": {
      "text/plain": [
       "np.int64(93)"
      ]
     },
     "execution_count": 98,
     "metadata": {},
     "output_type": "execute_result"
    }
   ],
   "source": [
    "matrixArr2.max()"
   ]
  },
  {
   "cell_type": "code",
   "execution_count": 101,
   "id": "a767c3a8-7db3-49d7-8d1a-3e194a15d311",
   "metadata": {},
   "outputs": [
    {
     "data": {
      "text/plain": [
       "np.int64(11)"
      ]
     },
     "execution_count": 101,
     "metadata": {},
     "output_type": "execute_result"
    }
   ],
   "source": [
    "np.count_nonzero(matrixArr2)"
   ]
  },
  {
   "cell_type": "code",
   "execution_count": 102,
   "id": "0b029041-baeb-4885-a8dc-44cb6987c66e",
   "metadata": {},
   "outputs": [
    {
     "data": {
      "text/plain": [
       "(array([1, 1, 2, 2, 2]), array([1, 2, 0, 1, 2]))"
      ]
     },
     "execution_count": 102,
     "metadata": {},
     "output_type": "execute_result"
    }
   ],
   "source": [
    "np.where(matrixArr2>5)"
   ]
  },
  {
   "cell_type": "code",
   "execution_count": null,
   "id": "75dea64d-0ca0-46a2-aa7c-09f82bcee5a9",
   "metadata": {},
   "outputs": [],
   "source": [
    "[1, 1, 2, 2, 2]\n",
    "[1, 2, 0, 1, 2]"
   ]
  },
  {
   "cell_type": "code",
   "execution_count": 103,
   "id": "e6df9952-4c3d-43e5-8e03-9369cf2bd14c",
   "metadata": {},
   "outputs": [
    {
     "data": {
      "text/plain": [
       "array([[ 0,  1,  2,  3],\n",
       "       [ 4, 45,  6,  5],\n",
       "       [71,  8, 93,  3]])"
      ]
     },
     "execution_count": 103,
     "metadata": {},
     "output_type": "execute_result"
    }
   ],
   "source": [
    "matrixArr2"
   ]
  },
  {
   "cell_type": "code",
   "execution_count": 104,
   "id": "92a44b71-e6b5-419e-be0a-a8810b1c0ea0",
   "metadata": {},
   "outputs": [],
   "source": [
    "import sys\n",
    "py_arr = [0,1,2,3]\n",
    "np_arr = np.array(py_arr)"
   ]
  },
  {
   "cell_type": "code",
   "execution_count": 105,
   "id": "fcbef7b7-7a9e-4ee2-84c4-bbd3ec0f8296",
   "metadata": {},
   "outputs": [
    {
     "data": {
      "text/plain": [
       "112"
      ]
     },
     "execution_count": 105,
     "metadata": {},
     "output_type": "execute_result"
    }
   ],
   "source": [
    "sys.getsizeof(1)*len(py_arr)"
   ]
  },
  {
   "cell_type": "code",
   "execution_count": 106,
   "id": "94a8bb77-d784-42b5-ae18-a724cc30e77b",
   "metadata": {},
   "outputs": [
    {
     "data": {
      "text/plain": [
       "32"
      ]
     },
     "execution_count": 106,
     "metadata": {},
     "output_type": "execute_result"
    }
   ],
   "source": [
    "np_arr.itemsize*np_arr.size"
   ]
  },
  {
   "cell_type": "code",
   "execution_count": null,
   "id": "8aefa68d-9e02-4dc5-a13a-15a616937ba1",
   "metadata": {},
   "outputs": [],
   "source": []
  }
 ],
 "metadata": {
  "kernelspec": {
   "display_name": "Python 3 (ipykernel)",
   "language": "python",
   "name": "python3"
  },
  "language_info": {
   "codemirror_mode": {
    "name": "ipython",
    "version": 3
   },
   "file_extension": ".py",
   "mimetype": "text/x-python",
   "name": "python",
   "nbconvert_exporter": "python",
   "pygments_lexer": "ipython3",
   "version": "3.13.7"
  }
 },
 "nbformat": 4,
 "nbformat_minor": 5
}
